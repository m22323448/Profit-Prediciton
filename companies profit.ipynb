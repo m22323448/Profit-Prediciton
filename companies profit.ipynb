{
 "cells": [
  {
   "cell_type": "code",
   "execution_count": 5,
   "metadata": {},
   "outputs": [],
   "source": [
    "import numpy as np\n",
    "import pandas as pd\n",
    "import matplotlib.pyplot as pt\n",
    "import seaborn as sn\n",
    "%matplotlib inline"
   ]
  },
  {
   "cell_type": "code",
   "execution_count": 19,
   "metadata": {},
   "outputs": [
    {
     "data": {
      "text/html": [
       "<div>\n",
       "<style scoped>\n",
       "    .dataframe tbody tr th:only-of-type {\n",
       "        vertical-align: middle;\n",
       "    }\n",
       "\n",
       "    .dataframe tbody tr th {\n",
       "        vertical-align: top;\n",
       "    }\n",
       "\n",
       "    .dataframe thead th {\n",
       "        text-align: right;\n",
       "    }\n",
       "</style>\n",
       "<table border=\"1\" class=\"dataframe\">\n",
       "  <thead>\n",
       "    <tr style=\"text-align: right;\">\n",
       "      <th></th>\n",
       "      <th>R&amp;D Spend</th>\n",
       "      <th>Administration</th>\n",
       "      <th>Marketing Spend</th>\n",
       "      <th>State</th>\n",
       "      <th>Profit</th>\n",
       "    </tr>\n",
       "  </thead>\n",
       "  <tbody>\n",
       "    <tr>\n",
       "      <th>0</th>\n",
       "      <td>165349.20</td>\n",
       "      <td>136897.80</td>\n",
       "      <td>471784.10</td>\n",
       "      <td>New York</td>\n",
       "      <td>192261.83</td>\n",
       "    </tr>\n",
       "    <tr>\n",
       "      <th>1</th>\n",
       "      <td>162597.70</td>\n",
       "      <td>151377.59</td>\n",
       "      <td>443898.53</td>\n",
       "      <td>California</td>\n",
       "      <td>191792.06</td>\n",
       "    </tr>\n",
       "    <tr>\n",
       "      <th>2</th>\n",
       "      <td>153441.51</td>\n",
       "      <td>101145.55</td>\n",
       "      <td>407934.54</td>\n",
       "      <td>Florida</td>\n",
       "      <td>191050.39</td>\n",
       "    </tr>\n",
       "    <tr>\n",
       "      <th>3</th>\n",
       "      <td>144372.41</td>\n",
       "      <td>118671.85</td>\n",
       "      <td>383199.62</td>\n",
       "      <td>New York</td>\n",
       "      <td>182901.99</td>\n",
       "    </tr>\n",
       "    <tr>\n",
       "      <th>4</th>\n",
       "      <td>142107.34</td>\n",
       "      <td>91391.77</td>\n",
       "      <td>366168.42</td>\n",
       "      <td>Florida</td>\n",
       "      <td>166187.94</td>\n",
       "    </tr>\n",
       "  </tbody>\n",
       "</table>\n",
       "</div>"
      ],
      "text/plain": [
       "   R&D Spend  Administration  Marketing Spend       State     Profit\n",
       "0  165349.20       136897.80        471784.10    New York  192261.83\n",
       "1  162597.70       151377.59        443898.53  California  191792.06\n",
       "2  153441.51       101145.55        407934.54     Florida  191050.39\n",
       "3  144372.41       118671.85        383199.62    New York  182901.99\n",
       "4  142107.34        91391.77        366168.42     Florida  166187.94"
      ]
     },
     "execution_count": 19,
     "metadata": {},
     "output_type": "execute_result"
    }
   ],
   "source": [
    "companies = pd.read_csv(\"D:/1000_companies.csv\")\n",
    "X=companies.iloc[:,:-1].values\n",
    "y=companies.iloc[:,4].values\n",
    "companies.head()"
   ]
  },
  {
   "cell_type": "code",
   "execution_count": 7,
   "metadata": {},
   "outputs": [
    {
     "data": {
      "text/plain": [
       "<matplotlib.axes._subplots.AxesSubplot at 0x228ceb827f0>"
      ]
     },
     "execution_count": 7,
     "metadata": {},
     "output_type": "execute_result"
    },
    {
     "data": {
      "image/png": "[encoded data removed]",
      "text/plain": [
       "<Figure size 432x288 with 2 Axes>"
      ]
     },
     "metadata": {
      "needs_background": "light"
     },
     "output_type": "display_data"
    }
   ],
   "source": [
    "sn.heatmap(companies.corr())"
   ]
  },
  {
   "cell_type": "code",
   "execution_count": 8,
   "metadata": {},
   "outputs": [
    {
     "data": {
      "text/html": [
       "<div>\n",
       "<style scoped>\n",
       "    .dataframe tbody tr th:only-of-type {\n",
       "        vertical-align: middle;\n",
       "    }\n",
       "\n",
       "    .dataframe tbody tr th {\n",
       "        vertical-align: top;\n",
       "    }\n",
       "\n",
       "    .dataframe thead th {\n",
       "        text-align: right;\n",
       "    }\n",
       "</style>\n",
       "<table border=\"1\" class=\"dataframe\">\n",
       "  <thead>\n",
       "    <tr style=\"text-align: right;\">\n",
       "      <th></th>\n",
       "      <th>R&amp;D Spend</th>\n",
       "      <th>Administration</th>\n",
       "      <th>Marketing Spend</th>\n",
       "      <th>State</th>\n",
       "      <th>Profit</th>\n",
       "      <th>Unnamed: 5</th>\n",
       "    </tr>\n",
       "  </thead>\n",
       "  <tbody>\n",
       "    <tr>\n",
       "      <th>995</th>\n",
       "      <td>54135.00</td>\n",
       "      <td>118451.999</td>\n",
       "      <td>173232.6695</td>\n",
       "      <td>California</td>\n",
       "      <td>95279.96251</td>\n",
       "      <td>NaN</td>\n",
       "    </tr>\n",
       "    <tr>\n",
       "      <th>996</th>\n",
       "      <td>134970.00</td>\n",
       "      <td>130390.080</td>\n",
       "      <td>329204.0228</td>\n",
       "      <td>California</td>\n",
       "      <td>164336.60550</td>\n",
       "      <td>NaN</td>\n",
       "    </tr>\n",
       "    <tr>\n",
       "      <th>997</th>\n",
       "      <td>100275.47</td>\n",
       "      <td>241926.310</td>\n",
       "      <td>227142.8200</td>\n",
       "      <td>California</td>\n",
       "      <td>413956.48000</td>\n",
       "      <td>NaN</td>\n",
       "    </tr>\n",
       "    <tr>\n",
       "      <th>998</th>\n",
       "      <td>128456.23</td>\n",
       "      <td>321652.140</td>\n",
       "      <td>281692.3200</td>\n",
       "      <td>California</td>\n",
       "      <td>333962.19000</td>\n",
       "      <td>NaN</td>\n",
       "    </tr>\n",
       "    <tr>\n",
       "      <th>999</th>\n",
       "      <td>161181.72</td>\n",
       "      <td>270939.860</td>\n",
       "      <td>295442.1700</td>\n",
       "      <td>New York</td>\n",
       "      <td>476485.43000</td>\n",
       "      <td>NaN</td>\n",
       "    </tr>\n",
       "  </tbody>\n",
       "</table>\n",
       "</div>"
      ],
      "text/plain": [
       "     R&D Spend  Administration  Marketing Spend       State        Profit  \\\n",
       "995   54135.00      118451.999      173232.6695  California   95279.96251   \n",
       "996  134970.00      130390.080      329204.0228  California  164336.60550   \n",
       "997  100275.47      241926.310      227142.8200  California  413956.48000   \n",
       "998  128456.23      321652.140      281692.3200  California  333962.19000   \n",
       "999  161181.72      270939.860      295442.1700    New York  476485.43000   \n",
       "\n",
       "     Unnamed: 5  \n",
       "995         NaN  \n",
       "996         NaN  \n",
       "997         NaN  \n",
       "998         NaN  \n",
       "999         NaN  "
      ]
     },
     "execution_count": 8,
     "metadata": {},
     "output_type": "execute_result"
    }
   ],
   "source": [
    "companies.tail()"
   ]
  },
  {
   "cell_type": "code",
   "execution_count": 13,
   "metadata": {},
   "outputs": [
    {
     "data": {
      "text/plain": [
       "<matplotlib.axes._subplots.AxesSubplot at 0x228cee03470>"
      ]
     },
     "execution_count": 13,
     "metadata": {},
     "output_type": "execute_result"
    },
    {
     "data": {
      "image/png": "[encoded data removed]",
      "text/plain": [
       "<Figure size 432x288 with 2 Axes>"
      ]
     },
     "metadata": {
      "needs_background": "light"
     },
     "output_type": "display_data"
    }
   ],
   "source": [
    "sn.heatmap(companies.corr())"
   ]
  },
  {
   "cell_type": "code",
   "execution_count": 22,
   "metadata": {},
   "outputs": [
    {
     "name": "stdout",
     "output_type": "stream",
     "text": [
      "[1.000000e+00 0.000000e+00 0.000000e+00 ... 1.000000e+00 1.368978e+05\n",
      " 4.717841e+05]\n"
     ]
    }
   ],
   "source": [
    "from sklearn.preprocessing import LabelEncoder, OneHotEncoder\n",
    "labelencoder = LabelEncoder()\n",
    "X[:, 3]=labelencoder.fit_transform(X[:, 3])\n",
    "onehotencoder = OneHotEncoder(categorical_features = [3])\n",
    "X=onehotencoder.fit_transform(X).toarray()"
   ]
  },
  {
   "cell_type": "code",
   "execution_count": 23,
   "metadata": {},
   "outputs": [],
   "source": [
    "from sklearn.model_selection import train_test_split\n",
    "X_train, x_test, y_train, y_test = train_test_split(X,y,test_size = 0.2, random_state=0)\n"
   ]
  },
  {
   "cell_type": "code",
   "execution_count": 24,
   "metadata": {},
   "outputs": [
    {
     "data": {
      "text/plain": [
       "LinearRegression(copy_X=True, fit_intercept=True, n_jobs=1, normalize=False)"
      ]
     },
     "execution_count": 24,
     "metadata": {},
     "output_type": "execute_result"
    }
   ],
   "source": [
    "from sklearn.linear_model import LinearRegression\n",
    "regressor = LinearRegression()\n",
    "regressor.fit(X_train, y_train)"
   ]
  },
  {
   "cell_type": "code",
   "execution_count": 26,
   "metadata": {},
   "outputs": [],
   "source": [
    "ypreg=regressor.predict(x_test)"
   ]
  },
  {
   "cell_type": "code",
   "execution_count": 28,
   "metadata": {},
   "outputs": [
    {
     "name": "stdout",
     "output_type": "stream",
     "text": [
      "[ 91202.04361932  89945.04645811  95907.27858944 171114.60720031\n",
      "  86445.34469794 111483.23897575 162023.90522091  92753.31559229\n",
      " 161286.90209741  58225.35462955  70146.35408387 147962.60408095\n",
      " 125425.74635813  63128.84562517 172070.70010788  78982.46871207\n",
      " 118169.63797168 160142.28061372 198275.43422552 177393.70973263\n",
      " 148978.90709882  87403.36536123 176011.27919337  85997.64859441\n",
      " 105228.35890949 101750.85143006  67104.78235276  61988.0899967\n",
      "  71940.48210613 233839.57139163 120502.47885368 111422.37196411\n",
      " 103109.05971452 136340.32540587  67398.99667597 108779.43479301\n",
      " 181031.01128312 167207.55323643 170159.0045325  117638.04434382\n",
      "  98724.20464211 160951.53674504 107734.44224521  55433.69790423\n",
      " 116570.90223025  62478.59290893 155199.23658844  81565.63039511\n",
      " 156407.97886309 130052.17593518 179595.57976795 170126.57114679\n",
      "  94848.04701413  81770.9611383  180815.3237372   87023.16523858\n",
      " 140896.04988834 166837.78226478  87324.21437606 106630.07549328\n",
      " 139752.17457171  57974.24273586 139187.05582245 137852.49012417\n",
      "  99041.46506414 113872.59077744 126401.08062071 149799.10395166\n",
      "  63816.23359436 169828.34084124 123313.61172118 164282.69768801\n",
      "  93308.15054703 153518.67614919  86147.15929409  81343.78793589\n",
      " 120166.27769415  95635.10862818 136585.25385738 140811.10552902\n",
      " 166936.21908403 137564.58830326 107609.40972836 151907.32823284\n",
      " 138639.59645253 111115.39533589  72656.39291349  90812.00546295\n",
      " 137611.26097731 146428.38999106 155128.48680424  62386.82976817\n",
      "  95936.50312204 113005.58708292  61688.27749342 108572.9229098\n",
      " 145000.07789665 149807.0146771  164247.05500107 117898.79427096\n",
      " 120488.23977726 137327.57036569 154770.13586607 121593.35295761\n",
      "  89837.41736702 105765.79020051  97437.14716377 174001.63706329\n",
      " 176153.36961895 110800.55267281 160768.80154114 163121.41892006\n",
      " 155207.59286432 170676.8046585  165325.31692973  56642.9305944\n",
      " 171539.89778568 104994.20449359  84674.99335591 137589.0664849\n",
      " 142162.53953938 158206.85326022 165566.1003142  120200.29329084\n",
      " 155627.20086057 110029.31229776 165967.61419523  64440.42595668\n",
      " 155037.55945112 154237.79604593 170426.82919004 153633.38018187\n",
      " 104037.81094377  88495.77672695 138966.34960187 162504.34621628\n",
      " 120874.27798747 195903.54060063 101813.64598679  84843.79012502\n",
      " 173111.73737394 102264.25053687  74549.35877669  92749.31564571\n",
      "  66013.01194263  73078.77505103  76250.48680664 171517.7479832\n",
      "  91856.55222328 189453.0224628   94592.83474356  70626.50313179\n",
      " 167758.6227681   64563.04051073 164970.43077207 161871.54141547\n",
      " 161660.62853783 103348.30562692 176956.25252252  77104.833424\n",
      "  92563.46078152 133608.48883179  69401.12915242  75718.54805907\n",
      "  65419.71569615 179049.74706335 171673.09676941 156042.16296128\n",
      " 139864.95108512 152081.31711482  63525.91380246  92699.03304594\n",
      " 150490.49188723 164400.86628934  76372.75602122 116156.38591572\n",
      "  82991.12365837 147672.73005178 117231.09342411 128446.01989449\n",
      " 170057.74869472 450831.51813488 143268.93424014 148426.61190094\n",
      "  88540.42145131  73661.34172979  73780.7921133   72067.05190873\n",
      " 120789.28893894  92221.67746212 162950.05927193 124134.73364818\n",
      "  71509.30871909 104996.22869123 117708.93946027 161362.097802\n",
      " 164638.1848933  143950.03838069 139898.96665928 110113.91108755]\n"
     ]
    }
   ],
   "source": [
    "print (ypreg)"
   ]
  },
  {
   "cell_type": "code",
   "execution_count": 29,
   "metadata": {},
   "outputs": [],
   "source": [
    "from sklearn.metrics import r2_score"
   ]
  },
  {
   "cell_type": "code",
   "execution_count": 30,
   "metadata": {},
   "outputs": [
    {
     "data": {
      "text/plain": [
       "0.934530304225036"
      ]
     },
     "execution_count": 30,
     "metadata": {},
     "output_type": "execute_result"
    }
   ],
   "source": [
    "r2_score(y_test, ypreg)"
   ]
  },
  {
   "cell_type": "code",
   "execution_count": null,
   "metadata": {},
   "outputs": [],
   "source": []
  }
 ],
 "metadata": {
  "kernelspec": {
   "display_name": "Python 3",
   "language": "python",
   "name": "python3"
  },
  "language_info": {
   "codemirror_mode": {
    "name": "ipython",
    "version": 3
   },
   "file_extension": ".py",
   "mimetype": "text/x-python",
   "name": "python",
   "nbconvert_exporter": "python",
   "pygments_lexer": "ipython3",
   "version": "3.7.0"
  }
 },
 "nbformat": 4,
 "nbformat_minor": 2
}
